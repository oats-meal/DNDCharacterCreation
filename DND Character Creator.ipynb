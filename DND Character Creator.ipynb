{
 "cells": [
  {
   "cell_type": "code",
   "execution_count": 1,
   "id": "muslim-amount",
   "metadata": {},
   "outputs": [],
   "source": [
    "## To put data in tables\n",
    "## Not really used, but I like having it just in case for spontaneous analyses\n",
    "import pandas as pd\n",
    "\n",
    "## Visualzie data\n",
    "import matplotlib.pyplot as plt\n",
    "\n",
    "## Numpy for quick arrays and math\n",
    "import numpy as np\n",
    "\n",
    "## Jupyter magic for visualizations\n",
    "%matplotlib inline"
   ]
  },
  {
   "cell_type": "markdown",
   "id": "offensive-museum",
   "metadata": {},
   "source": [
    "# Context\n",
    "\n",
    "Within the game of Dungeons and Dragons, players create characters to roleplay as in the world that their Dungeon Master (DM) creates.\n",
    "\n",
    "The capabilities of the character are defined through 6 Ability Scores\n",
    "   - Strength, measuring physical power\n",
    "   - Dexterity, measuring agility\n",
    "   - Constitution, measuring endurance\n",
    "   - Intelligence, measuring reasoning and memory\n",
    "   - Wisdom, measuring Perception and Insight\n",
    "   - Charisma, measuring force of Personality\n",
    "\n",
    "## Generating Scores\n",
    "\n",
    "Two of the most common ways to determine these scores are the \"Standard Array\" in which the numbers [15, 14, 13, 12, 10, 8] are allocated to the scores based on player preference/want\n",
    "\n",
    "OR\n",
    "\n",
    "For those not afraid of taking risk, the 4d6 method. This method uses dice rolling to generate an array of 6 numbers that can be allocated.\n",
    "\n",
    "This method works the following way\n",
    "1. Roll 4 6-sided dice\n",
    "2. (Optional) Re-roll any 1's \n",
    "3. Drop the lowest number\n",
    "4. Sum the dice to get the ability score\n",
    "5. Repeat steps 1-4 five more times\n",
    "6. These are your 6 ability scores you can allocate as you see fit.\n",
    "\n",
    "# Goal of this Notebook\n",
    "\n",
    "Lets assume we roll dice to find our ability scores. How do we determine whether this is a \"Good\" character? In other words, how do we know whether we are more likely to find a better character if we try to re-roll again?\n",
    "\n",
    "Similarly, how \"good\" is the standard array?\n",
    "\n",
    "This note book aims to come up with a statistical way to define whether a character that is rolled is \"Good\" or if a player should try to create a different character.\n",
    "\n",
    "## Considerations and Limitations\n",
    "\n",
    "Note that there are many ways to determine \"Better\". Similarly, there are many things that may affect our interpretation of ability scores (e.g. modifiers, relevancy, dump stats, classes, racial traits, etc.)\n",
    "\n",
    "We will start by focusing on strictly scores as they exist, and then move on to more in-depth considerations (time and knowledge permitting)."
   ]
  },
  {
   "cell_type": "code",
   "execution_count": 2,
   "id": "abstract-bedroom",
   "metadata": {},
   "outputs": [],
   "source": [
    "## Defining the standard array. This is the baseline against what we will be comparing characters to\n",
    "standard_array = np.array([15, 14, 13, 12, 10, 8])\n",
    "\n",
    "## The sum of scores of the standard array\n",
    "standard_array_sum = sum(standard_array)\n",
    "\n",
    "\n",
    "## We want to make sure we have a greater than 50% chance of developing a better character\n",
    "## Lets assume 2 dump stats, 2 key stats, 2 \"whatever\" stats\n",
    "## How do we figure out which is better?"
   ]
  },
  {
   "cell_type": "code",
   "execution_count": 3,
   "id": "wrong-freedom",
   "metadata": {},
   "outputs": [],
   "source": [
    "## Defining a function that will let us simulate a 4d6 creation method for a single score\n",
    "def roll_score(number_of_dice = 4, dice_min = 1, dice_max = 6, drop_lowest=True):\n",
    "    \"\"\"\n",
    "    Returns an NP array of dice rolls. \n",
    "    Note that we add 1 in 'high = dice_max + 1' because the 'high' argument in numpy is exclusive.\n",
    "    If your DM lets you re-roll 1's, set dice_min to 2\n",
    "    If you instead use different dice to set your score (e.g. a 4 or 8 or 10 or 12 sided die) set \"dice max\" to the number of sides\n",
    "    If your DM does not let you drop your lowest, change \"drop lowest\" to False\n",
    "    \"\"\"\n",
    "    this_roll = np.array([np.random.randint(low = dice_min, high = dice_max + 1) for i in range(number_of_dice)])\n",
    "    if(drop_lowest):\n",
    "        this_roll = np.delete(this_roll, this_roll.argmin())\n",
    "    return np.sum(this_roll)"
   ]
  },
  {
   "cell_type": "markdown",
   "id": "lyric-berkeley",
   "metadata": {},
   "source": [
    "# Getting the data\n",
    "\n",
    "We will simulate 10000 rolls and use this as our dataset/population to sample from."
   ]
  },
  {
   "cell_type": "code",
   "execution_count": 4,
   "id": "stunning-massage",
   "metadata": {},
   "outputs": [],
   "source": [
    "## Simulating 10000 score generations\n",
    "\n",
    "## An array to store the scores we roll\n",
    "total_rolls = []\n",
    "\n",
    "## 10000 iterations for that large sample size\n",
    "for i in range (10000):\n",
    "    ## Generating scores and appending it to the array we're storing scores in.\n",
    "    total_rolls.append(roll_score())\n",
    "total_rolls = np.array(total_rolls)"
   ]
  },
  {
   "cell_type": "markdown",
   "id": "bizarre-robinson",
   "metadata": {},
   "source": [
    "# Visualizing the data\n",
    "\n",
    "What does our score distribution look like? Note that we did NOT re-roll 1's but we DID drop the lowest of 4 6-sided dice."
   ]
  },
  {
   "cell_type": "code",
   "execution_count": 5,
   "id": "written-virginia",
   "metadata": {},
   "outputs": [
    {
     "data": {
      "text/plain": [
       "[]"
      ]
     },
     "execution_count": 5,
     "metadata": {},
     "output_type": "execute_result"
    },
    {
     "data": {
      "image/png": "[encoded data removed]",
      "text/plain": [
       "<Figure size 432x288 with 1 Axes>"
      ]
     },
     "metadata": {
      "needs_background": "light"
     },
     "output_type": "display_data"
    }
   ],
   "source": [
    "## Get the unique combinations with their respective counts\n",
    "combinations, occurrences = np.unique(total_rolls, return_counts = True)\n",
    "\n",
    "## Plot the distribution of scores with as many bins as there are combinations\n",
    "plt.hist(total_rolls, bins = len(combinations))\n",
    "plt.plot()"
   ]
  },
  {
   "cell_type": "code",
   "execution_count": 6,
   "id": "abroad-daily",
   "metadata": {},
   "outputs": [
    {
     "name": "stdout",
     "output_type": "stream",
     "text": [
      "There are 16 total possible scores\n",
      "The possible scores with their respective probability are \n",
      "[(3, 0.1), (4, 0.3), (5, 0.69), (6, 1.68), (7, 2.84), (8, 4.61), (9, 6.86), (10, 9.58), (11, 11.37), (12, 12.47), (13, 13.49), (14, 12.64), (15, 10.07), (16, 7.46), (17, 4.23), (18, 1.61)]\n",
      "Mean = 12.2767\n",
      "Median = 12.0\n",
      "Standard Deviation = 2.8423119304537985\n"
     ]
    }
   ],
   "source": [
    "print(\"There are {} total possible scores\".format(len(combinations)))\n",
    "print(\"The possible scores with their respective probability are \\n{}\".format(list(zip(combinations,occurrences/100))))\n",
    "print(\"Mean = {}\".format(total_rolls.mean()))\n",
    "print(\"Median = {}\".format(np.median(total_rolls)))\n",
    "print(\"Standard Deviation = {}\".format(total_rolls.std()))"
   ]
  },
  {
   "cell_type": "markdown",
   "id": "liked-reward",
   "metadata": {},
   "source": [
    "# Defining \"Better\"\n",
    "\n",
    "If we set the \"Standard Array\" as our baseline, how do we determine what is \"Better\" than it? Presently, I can think of two ways.\n",
    "\n",
    "## Sum of Scores\n",
    "\n",
    "The total sum of the 6 scores in the \"Standard Array\" is 72. So this method states that if the sum of the scores we roll is greater than 72, we've made a better character.\n",
    "\n",
    "So yes, this would mean a score set of [18, 18, 18, 6, 6, 6] would be the same as a score of [12, 12, 12, 12, 12, 12]. And both of them would be the same as the Standard Array [15, 14, 13, 12, 10, 8].\n",
    "\n",
    "## Ordered Array Improvement\n",
    "\n",
    "This method states that a new ability score set is only \"better\" if the scores in the sorted array are better than the respective scores in the Standard Array.\n",
    "\n",
    "In other words, if we rolled [A, B, C, D, E, F], we would want A >= 15, B >= 14, ... until F >= 8\n",
    "\n",
    "Note how the standard array is sorted as [15, 14, 13, 12, 10, 8].\n",
    "\n",
    "When taking into account \"Dump Stats\" we can also add \"Threshhold\" values to state that we only care if the \"n\" largest scores we rolled are greater than the \"n\" largest scores in the Standard Array."
   ]
  },
  {
   "cell_type": "markdown",
   "id": "chief-ordinary",
   "metadata": {},
   "source": [
    "# Sum of Scores Method\n",
    "\n",
    "How many scores will be better than 72?"
   ]
  },
  {
   "cell_type": "code",
   "execution_count": 7,
   "id": "pleased-plymouth",
   "metadata": {},
   "outputs": [],
   "source": [
    "## Where we will store the new score sums\n",
    "rolled_score_sums = []\n",
    "\n",
    "for i in range(10000):\n",
    "    ## Sampling 6 scores at a time from our data, then adding them together and appending it to our array\n",
    "    rolled_score_sums.append(np.sum(np.random.choice(total_rolls, 6)))\n",
    "\n",
    "## Turning the array into a numpy array for easy and fast array operations\n",
    "rolled_score_sums = np.array(rolled_score_sums)"
   ]
  },
  {
   "cell_type": "code",
   "execution_count": 8,
   "id": "metric-delight",
   "metadata": {},
   "outputs": [
    {
     "name": "stdout",
     "output_type": "stream",
     "text": [
      "There are 51 total possible scores\n",
      "The possible scores with their respective probability are \n",
      "[(45, 0.01), (47, 0.02), (48, 0.03), (49, 0.01), (50, 0.04), (51, 0.02), (52, 0.02), (53, 0.11), (54, 0.12), (55, 0.17), (56, 0.2), (57, 0.3), (58, 0.7), (59, 0.76), (60, 0.92), (61, 1.21), (62, 1.36), (63, 1.56), (64, 1.99), (65, 2.42), (66, 3.09), (67, 3.54), (68, 3.78), (69, 4.57), (70, 4.96), (71, 4.93), (72, 5.32), (73, 6.19), (74, 5.36), (75, 5.51), (76, 5.39), (77, 5.4), (78, 4.99), (79, 4.5), (80, 4.28), (81, 3.27), (82, 2.99), (83, 2.36), (84, 2.13), (85, 1.44), (86, 1.26), (87, 0.83), (88, 0.62), (89, 0.43), (90, 0.37), (91, 0.26), (92, 0.12), (93, 0.06), (94, 0.05), (95, 0.01), (96, 0.02)]\n",
      "Mean = 73.6893\n",
      "Median = 74.0\n",
      "Standard Deviation = 6.9544780904105234\n"
     ]
    },
    {
     "data": {
      "text/plain": [
       "[]"
      ]
     },
     "execution_count": 8,
     "metadata": {},
     "output_type": "execute_result"
    },
    {
     "data": {
      "image/png": "[encoded data removed]",
      "text/plain": [
       "<Figure size 432x288 with 1 Axes>"
      ]
     },
     "metadata": {
      "needs_background": "light"
     },
     "output_type": "display_data"
    }
   ],
   "source": [
    "combinations, occurrences = np.unique(rolled_score_sums, return_counts=True)\n",
    "print(\"There are {} total possible scores\".format(len(combinations)))\n",
    "print(\"The possible scores with their respective probability are \\n{}\".format(list(zip(combinations,occurrences/100))))\n",
    "print(\"Mean = {}\".format(rolled_score_sums.mean()))\n",
    "print(\"Median = {}\".format(np.median(rolled_score_sums)))\n",
    "print(\"Standard Deviation = {}\".format(rolled_score_sums.std()))\n",
    "\n",
    "## What does this distribution look like?\n",
    "plt.hist(rolled_score_sums, bins = 30)\n",
    "plt.plot()"
   ]
  },
  {
   "cell_type": "code",
   "execution_count": 9,
   "id": "spanish-mattress",
   "metadata": {},
   "outputs": [
    {
     "name": "stdout",
     "output_type": "stream",
     "text": [
      "By rolling dice, there is a 57.84% chance the sum of your scores will be greater than 72\n"
     ]
    }
   ],
   "source": [
    "## So what percent of our rolls have a score better than 72?\n",
    "## We can do this by filtering our \"rolled score sums\" by where they are greater than or equal to 72\n",
    "## Then identifying the percentage of how many fit our criteria\n",
    "\n",
    "print(\"By rolling dice, there is a {}% chance the sum of your scores will be greater than {}\".format(sum(rolled_score_sums > standard_array_sum) / 100, standard_array_sum))"
   ]
  },
  {
   "cell_type": "markdown",
   "id": "bored-helen",
   "metadata": {},
   "source": [
    "# Ordered Array Improvement\n",
    "\n",
    "We'll do this two ways\n",
    "\n",
    "First, by looking at the WHOLE set of scores we generate and ensure that the scores are strictly better."
   ]
  },
  {
   "cell_type": "code",
   "execution_count": 10,
   "id": "present-morrison",
   "metadata": {},
   "outputs": [],
   "source": [
    "## An array of score arrays\n",
    "rolled_scores = []\n",
    "\n",
    "## Generate 10000 score lists\n",
    "for i in range(10000):\n",
    "    ## Append a sorted array of 6 scores to our rolled_scores array\n",
    "    rolled_scores.append(np.sort(np.random.choice(total_rolls,6)))\n",
    "\n",
    "rolled_scores = np.array(rolled_scores)\n",
    "## Note that Numpy sorts in ascending order. So we need to make sure our Standard Array is also in ascending order\n",
    "\n",
    "sorted_standard_array = np.sort(standard_array)"
   ]
  },
  {
   "cell_type": "code",
   "execution_count": 11,
   "id": "renewable-college",
   "metadata": {},
   "outputs": [
    {
     "name": "stdout",
     "output_type": "stream",
     "text": [
      "There are 7 total possible scores\n",
      "The possible scores with their respective probability are \n",
      "[(0, 14.47), (1, 17.65), (2, 17.62), (3, 14.56), (4, 12.67), (5, 11.01), (6, 12.02)]\n",
      "Mean = 2.7442\n",
      "Median = 3.0\n",
      "Standard Deviation = 1.9411250243093565\n"
     ]
    },
    {
     "data": {
      "text/plain": [
       "[]"
      ]
     },
     "execution_count": 11,
     "metadata": {},
     "output_type": "execute_result"
    },
    {
     "data": {
      "image/png": "[encoded data removed]",
      "text/plain": [
       "<Figure size 432x288 with 1 Axes>"
      ]
     },
     "metadata": {
      "needs_background": "light"
     },
     "output_type": "display_data"
    }
   ],
   "source": [
    "## Comparing every array to the standard array. Basically a big array of arrays with 1 and 0 in them\n",
    "## 1 where the number is greater than the respective number in the standard array. 0 where it isn't.\n",
    "scored_array = np.where(rolled_scores>sorted_standard_array,1,0)\n",
    "\n",
    "## Since we now have our score arrays as arrays of 1 and 0,\n",
    "## we find the sum of each array to identify how many of the scores that we rolled were greater than the standard array\n",
    "## Create an array of the sum of scores\n",
    "scored_array_sums = np.sum(scored_array,axis=1)\n",
    "\n",
    "## Basic statistics on what the scores look like\n",
    "combinations, occurrences = np.unique(scored_array_sums, return_counts=True)\n",
    "print(\"There are {} total possible scores\".format(len(combinations)))\n",
    "print(\"The possible scores with their respective probability are \\n{}\".format(list(zip(combinations,occurrences/100))))\n",
    "print(\"Mean = {}\".format(scored_array_sums.mean()))\n",
    "print(\"Median = {}\".format(np.median(scored_array_sums)))\n",
    "print(\"Standard Deviation = {}\".format(scored_array_sums.std()))\n",
    "\n",
    "## What does this distribution look like?\n",
    "plt.hist(scored_array_sums, bins=7)\n",
    "plt.plot()"
   ]
  },
  {
   "cell_type": "code",
   "execution_count": 12,
   "id": "senior-jersey",
   "metadata": {},
   "outputs": [
    {
     "name": "stdout",
     "output_type": "stream",
     "text": [
      "The percentage chance of having at least 1 scores greater than the respective score in the standard array is 85.53%\n",
      "The percentage chance of having at least 2 scores greater than the respective score in the standard array is 67.88%\n",
      "The percentage chance of having at least 3 scores greater than the respective score in the standard array is 50.26%\n",
      "The percentage chance of having at least 4 scores greater than the respective score in the standard array is 35.7%\n",
      "The percentage chance of having at least 5 scores greater than the respective score in the standard array is 23.03%\n",
      "The percentage chance of having at least 6 scores greater than the respective score in the standard array is 12.02%\n"
     ]
    }
   ],
   "source": [
    "for i in range(6):\n",
    "    print(\"The percentage chance of having at least {} scores greater than the respective score in the standard array is {}%\".format(i+1,\n",
    "                                                                                                                                     np.sum(scored_array_sums>i)/100))"
   ]
  },
  {
   "cell_type": "markdown",
   "id": "popular-mentor",
   "metadata": {},
   "source": [
    "# Other ways to explore\n",
    "\n",
    "We're looking strictly at \"greater than\". What if we expanded to \"greater than or equal to\"?\n",
    "\n",
    "Can we prioritize high scores more than lower scores?\n",
    "\n",
    "How do we incorporate dump stats?\n",
    "\n",
    "What if we took the differences of scores in the sorted array?\n",
    "\n",
    "What if we looked at the modifiers and whether an additional point would make a difference?\n",
    "\n",
    "Note that [12, 12, 12, 12, 12, 12] is statistically the most likely score result. Could we incorporate this somehow?\n",
    "\n",
    "We can think about this later."
   ]
  },
  {
   "cell_type": "markdown",
   "id": "acting-gambling",
   "metadata": {},
   "source": [
    "# Key takeaways\n",
    "\n",
    "In general it seems that rolling scores will in the long run yield better ability scores.\n",
    "\n",
    "I think next steps would be to look at just prime stats (e.g. excluding dump stats) and the [12] array."
   ]
  }
 ],
 "metadata": {
  "kernelspec": {
   "display_name": "Python 3",
   "language": "python",
   "name": "python3"
  },
  "language_info": {
   "codemirror_mode": {
    "name": "ipython",
    "version": 3
   },
   "file_extension": ".py",
   "mimetype": "text/x-python",
   "name": "python",
   "nbconvert_exporter": "python",
   "pygments_lexer": "ipython3",
   "version": "3.9.4"
  }
 },
 "nbformat": 4,
 "nbformat_minor": 5
}
